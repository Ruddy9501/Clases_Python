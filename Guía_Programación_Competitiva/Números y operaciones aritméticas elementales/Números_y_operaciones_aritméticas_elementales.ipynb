{
 "cells": [
  {
   "attachments": {},
   "cell_type": "markdown",
   "metadata": {},
   "source": [
    "# Números y operaciones aritméticas elementales\n",
    "\n",
    "## Cociente y resto de una división\n",
    "\n",
    "El cociente y resto de una división están relacionados con el dividendo y divisor mediante la fórmula:\n",
    "\n",
    "<div style=\"text-align: center;\">\n",
    "    <img src=\"../img/mates-cociente-resto.PNG\" width=50% height=auto>\n",
    "</div>\n",
    "\n",
    "El cociente es siempre un número entero, pero el resto puede ser entero o decimal. En Python, el resto y el divisor tienen siempre el mismo signo y en valor absoluto (sin signo) el resto es siempre inferior al divisor.\n",
    "\n",
    "**Nota:** Como se comenta en la lección [Detalles del Lenguaje](https://www.mclibre.org/consultar/python/lecciones/python-detalles.html#division-enteros), el cociente y el divisor de una división en la que intervienen números enteros negativos no se calcula de la misma manera en los distintos lenguajes de programación.\n",
    "\n",
    "\n",
    "### Cociente de una división\n",
    "\n",
    "El cociente de una división se calcula en Python con el operador `//`. El resultado es siempre un número entero, pero será de tipo entero o decimal dependiendo del tipo de los números empleados (en caso de ser decimal, la parte decimal es siempre cero). Por ejemplo:"
   ]
  },
  {
   "cell_type": "code",
   "execution_count": 2,
   "metadata": {},
   "outputs": [
    {
     "name": "stdout",
     "output_type": "stream",
     "text": [
      "3\n",
      "2\n",
      "2.0\n",
      "3.0\n"
     ]
    }
   ],
   "source": [
    "print(10 // 3)   # 3\n",
    "print(10 // 4)   # 2\n",
    "print(20.0 // 7) # 2.0\n",
    "print(20 // 6.0) # 3.0"
   ]
  }
 ],
 "metadata": {
  "kernelspec": {
   "display_name": "base",
   "language": "python",
   "name": "python3"
  },
  "language_info": {
   "codemirror_mode": {
    "name": "ipython",
    "version": 3
   },
   "file_extension": ".py",
   "mimetype": "text/x-python",
   "name": "python",
   "nbconvert_exporter": "python",
   "pygments_lexer": "ipython3",
   "version": "3.9.12"
  },
  "orig_nbformat": 4,
  "vscode": {
   "interpreter": {
    "hash": "a2ab3825ac7005fb7b26f112e9c99ae62f464c629e30b0d534c3b931b6cbc3ff"
   }
  }
 },
 "nbformat": 4,
 "nbformat_minor": 2
}
