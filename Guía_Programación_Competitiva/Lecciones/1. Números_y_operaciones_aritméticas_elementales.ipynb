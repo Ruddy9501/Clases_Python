{
 "cells": [
  {
   "attachments": {},
   "cell_type": "markdown",
   "metadata": {},
   "source": [
    "# Números y operaciones aritméticas elementales\n",
    "\n",
    "## Cociente y resto de una división\n",
    "\n",
    "El cociente y resto de una división están relacionados con el dividendo y divisor mediante la fórmula:\n",
    "\n",
    "<div style=\"text-align: center;\">\n",
    "    <img src=\"../img/mates-cociente-resto.PNG\" width=50% height=auto>\n",
    "</div>\n",
    "\n",
    "El cociente es siempre un número entero, pero el resto puede ser entero o decimal. En Python, el resto y el divisor tienen siempre el mismo signo y en valor absoluto (sin signo) el resto es siempre inferior al divisor.\n",
    "\n",
    "**Nota:** Como se comenta en la lección [Detalles del Lenguaje](https://www.mclibre.org/consultar/python/lecciones/python-detalles.html#division-enteros), el cociente y el divisor de una división en la que intervienen números enteros negativos no se calcula de la misma manera en los distintos lenguajes de programación.\n",
    "\n",
    "\n",
    "### Cociente de una división\n",
    "\n",
    "El cociente de una división se calcula en Python con el operador `//`. El resultado es siempre un número entero, pero será de tipo entero o decimal dependiendo del tipo de los números empleados (en caso de ser decimal, la parte decimal es siempre cero). Por ejemplo:"
   ]
  },
  {
   "cell_type": "code",
   "execution_count": 16,
   "metadata": {},
   "outputs": [
    {
     "name": "stdout",
     "output_type": "stream",
     "text": [
      "3\n",
      "2\n",
      "2.0\n",
      "3.0\n"
     ]
    }
   ],
   "source": [
    "print(10 // 3)   # 3\n",
    "print(10 // 4)   # 2\n",
    "print(20.0 // 7) # 2.0\n",
    "print(20 // 6.0) # 3.0"
   ]
  },
  {
   "attachments": {},
   "cell_type": "markdown",
   "metadata": {},
   "source": [
    "El operador cociente `//` tiene la misma prioridad que la división:"
   ]
  },
  {
   "cell_type": "code",
   "execution_count": 17,
   "metadata": {},
   "outputs": [
    {
     "name": "stdout",
     "output_type": "stream",
     "text": [
      "2.5\n",
      "2.5\n",
      "10.0\n"
     ]
    }
   ],
   "source": [
    "print(26 // 5 / 2)   # 2.5\n",
    "print((26 // 5) / 2) # 2.5\n",
    "print(26 // (5 / 2)) # 10.0"
   ]
  },
  {
   "cell_type": "code",
   "execution_count": 18,
   "metadata": {},
   "outputs": [
    {
     "name": "stdout",
     "output_type": "stream",
     "text": [
      "2.0\n",
      "2.0\n",
      "13.0\n"
     ]
    }
   ],
   "source": [
    "print(26 / 5 // 2)   # 2.0\n",
    "print((26 / 5) // 2) # 2.0\n",
    "print(26 / (5 // 2)) # 13.0"
   ]
  },
  {
   "attachments": {},
   "cell_type": "markdown",
   "metadata": {},
   "source": [
    "### Resto de una división\n",
    "\n",
    "El resto de una división se calcula en Python con el operador `%`. El resultado tendrá tipo entero o decimal, de acuerdo con el resultado de la operación."
   ]
  },
  {
   "cell_type": "code",
   "execution_count": 19,
   "metadata": {},
   "outputs": [
    {
     "name": "stdout",
     "output_type": "stream",
     "text": [
      "1\n",
      "2\n",
      "0\n",
      "1.5\n"
     ]
    }
   ],
   "source": [
    "print(10 % 3)   # 1\n",
    "print(10 % 4)   # 2\n",
    "print(10 % 5)   # 0\n",
    "print(10.5 % 3) # 1.5"
   ]
  },
  {
   "attachments": {},
   "cell_type": "markdown",
   "metadata": {},
   "source": [
    "Cuando el resultado es decimal, pueden aparecer los problemas de redondeo."
   ]
  },
  {
   "cell_type": "code",
   "execution_count": 20,
   "metadata": {},
   "outputs": [
    {
     "name": "stdout",
     "output_type": "stream",
     "text": [
      "1.1999999999999993\n",
      "1.5999999999999996\n",
      "5.0\n"
     ]
    }
   ],
   "source": [
    "print(10.2 % 3)   # 1.1999999999999993 --> El resultado correcto es 1.2\n",
    "print(10 % 4.2)   # 1.5999999999999996 --> El resultado correcto es 1.6\n",
    "print(10.1 % 5.1) # 5.0 --> Este resultado coincide con el resultado correcto"
   ]
  },
  {
   "attachments": {},
   "cell_type": "markdown",
   "metadata": {},
   "source": [
    "\n",
    "El operador resto `%` tiene la misma prioridad que la división:\n"
   ]
  },
  {
   "cell_type": "code",
   "execution_count": 21,
   "metadata": {},
   "outputs": [
    {
     "name": "stdout",
     "output_type": "stream",
     "text": [
      "0.5\n",
      "0.5\n",
      "1.0\n"
     ]
    }
   ],
   "source": [
    "print(26 % 5 / 2)    # 0.5\n",
    "print((26 % 5) / 2)  # 0.5\n",
    "print(26 % (5 / 2))  # 1.0"
   ]
  },
  {
   "cell_type": "code",
   "execution_count": 22,
   "metadata": {},
   "outputs": [
    {
     "name": "stdout",
     "output_type": "stream",
     "text": [
      "1.2000000000000002\n",
      "1.2000000000000002\n",
      "26.0\n"
     ]
    }
   ],
   "source": [
    "print(26 / 5 % 2)   # 1.2000000000000002\n",
    "print((26 / 5) % 2) # 1.2000000000000002\n",
    "print(26 / (5 % 2)) # 26.0"
   ]
  },
  {
   "attachments": {},
   "cell_type": "markdown",
   "metadata": {},
   "source": [
    "## Elevar un número a una potencia\n",
    "\n",
    "Las potencias se calculan con el operador `**`, teniendo en cuenta que `x**y` $= x^y$.\n",
    "\n",
    "Las potencias tienen prioridad sobre las multiplicaciones y divisiones. Al utilizar exponentes negativos o decimales se pueden calcular potencias inversas o raíces n-ésimas:\n",
    "\n",
    "<div style=\"text-align: center;\">\n",
    "    <img src=\"../img/mates-potencias.PNG\" width=50% height=auto>\n",
    "</div>\n"
   ]
  },
  {
   "cell_type": "code",
   "execution_count": 23,
   "metadata": {},
   "outputs": [
    {
     "name": "stdout",
     "output_type": "stream",
     "text": [
      "8\n",
      "0.0001\n",
      "3.0\n"
     ]
    }
   ],
   "source": [
    "print(2**3)     # 8\n",
    "print(10**-4)   # 0.0001 --> Recuerde que a^{-b} = 1/{a^b}\n",
    "print(9**(1/2)) # 3.0    --> Recuerde que a^{1/b} es la raíz b-ésima de a"
   ]
  },
  {
   "attachments": {},
   "cell_type": "markdown",
   "metadata": {},
   "source": [
    "También se pueden calcular potencias o raíces mediante la función integrada `pow(x,y)`. Si se da un tercer argumento, `pow(x, y, z)`, la función calcula primero $x$ elevado $a$ y después calcula el resto de la división por $z$.\n"
   ]
  },
  {
   "cell_type": "code",
   "execution_count": 24,
   "metadata": {},
   "outputs": [
    {
     "name": "stdout",
     "output_type": "stream",
     "text": [
      "8\n",
      "2.0\n",
      "3\n"
     ]
    }
   ],
   "source": [
    "print(pow(2, 3))    # 8\n",
    "print(pow(4, 0.5))  # 2.0\n",
    "print(pow(2, 3, 5)) # 3"
   ]
  },
  {
   "attachments": {},
   "cell_type": "markdown",
   "metadata": {},
   "source": [
    "## Redondear un número\n",
    "\n",
    "Aunque no se puede dar una regla válida en todas las situaciones, normalmente es conveniente redondear el resultado de un cálculo cuando se muestra al usuario, sobre todo si tiene muchos decimales, para facilitar su lectura.\n",
    "\n",
    "Lo que no se debe hacer nunca es redondear resultados intermedios que se vayan a utilizar en cálculos posteriores, porque el resultado final será diferente.\n",
    "\n",
    "### La función integrada `round()`\n",
    "\n",
    "Para redondear un número (por ejemplo, cuando se muestra al usuario el resultado final de un cálculo), se puede utilizar la función integrada `round()`. La función integrada `round()` admite uno o dos argumentos numéricos.\n",
    "\n",
    "* Si sólo hay un argumento, la función devuelve el argumento redondeado al entero más próximo."
   ]
  },
  {
   "cell_type": "code",
   "execution_count": 25,
   "metadata": {},
   "outputs": [
    {
     "name": "stdout",
     "output_type": "stream",
     "text": [
      "4\n",
      "5\n",
      "-4\n",
      "-5\n"
     ]
    }
   ],
   "source": [
    "print(round(4.35))  #  4\n",
    "print(round(4.62))  #  5\n",
    "print(round(-4.35)) # -4\n",
    "print(round(-4.62)) # -5"
   ]
  },
  {
   "attachments": {},
   "cell_type": "markdown",
   "metadata": {},
   "source": [
    "* Si se escriben dos argumentos, siendo el segundo un número entero, la función integrada `round()` devuelve el primer argumento redondeado en la posición indicada por el segundo argumento.\n",
    "\n",
    "   - Si el segundo argumento es positivo, el primer argumento se redondea con el número de decimales indicado."
   ]
  },
  {
   "cell_type": "code",
   "execution_count": 26,
   "metadata": {},
   "outputs": [
    {
     "name": "stdout",
     "output_type": "stream",
     "text": [
      "4.35\n",
      "4.4\n",
      "4.353\n"
     ]
    }
   ],
   "source": [
    "print(round(4.3527, 2)) # 4.35\n",
    "print(round(4.3527, 1)) # 4.4\n",
    "print(round(4.3527, 3)) # 4.353"
   ]
  },
  {
   "attachments": {},
   "cell_type": "markdown",
   "metadata": {},
   "source": [
    "-   - Si se piden más decimales de los que tiene el número, se obtiene el primer argumento, sin cambios:"
   ]
  },
  {
   "cell_type": "code",
   "execution_count": 27,
   "metadata": {},
   "outputs": [
    {
     "name": "stdout",
     "output_type": "stream",
     "text": [
      "4.3527\n",
      "435\n"
     ]
    }
   ],
   "source": [
    "print(round(4.3527, 7)) # 4.3527\n",
    "print(round(435, 2))    # 435"
   ]
  },
  {
   "attachments": {},
   "cell_type": "markdown",
   "metadata": {},
   "source": [
    "  -  - Si el segundo argumento es $0$ y el primero es un número decimal, se redondea al entero más próximo, como cuando no se escribe segundo argumento, pero la diferencia es que el resultado es decimal y no entero."
   ]
  },
  {
   "cell_type": "code",
   "execution_count": 28,
   "metadata": {},
   "outputs": [
    {
     "name": "stdout",
     "output_type": "stream",
     "text": [
      "4.0\n",
      "4\n"
     ]
    }
   ],
   "source": [
    "print(round(4.3527, 0)) # 4.0\n",
    "print(round(4.3527))    # 4"
   ]
  },
  {
   "attachments": {},
   "cell_type": "markdown",
   "metadata": {},
   "source": [
    "-   - Si el segundo argumento es 0 y el primero es un número entero, el resultado es entero:"
   ]
  },
  {
   "cell_type": "code",
   "execution_count": 29,
   "metadata": {},
   "outputs": [
    {
     "name": "stdout",
     "output_type": "stream",
     "text": [
      "435\n"
     ]
    }
   ],
   "source": [
    "print(round(435, 0)) # 435"
   ]
  },
  {
   "attachments": {},
   "cell_type": "markdown",
   "metadata": {},
   "source": [
    "-   - Si el segundo argumento es negativo, se redondea a decenas, centenas, etc."
   ]
  },
  {
   "cell_type": "code",
   "execution_count": 30,
   "metadata": {},
   "outputs": [
    {
     "name": "stdout",
     "output_type": "stream",
     "text": [
      "43530\n",
      "43500\n",
      "44000\n",
      "40000\n",
      "0\n"
     ]
    }
   ],
   "source": [
    "print(round(43527, -1)) # 43530\n",
    "print(round(43527, -2)) # 43500\n",
    "print(round(43527, -3)) # 44000\n",
    "print(round(43527, -4)) # 40000\n",
    "print(round(43527, -5)) # 0"
   ]
  },
  {
   "attachments": {},
   "cell_type": "markdown",
   "metadata": {},
   "source": [
    "La función integrada `round()` redondea correctamente al número más próximo del orden de magnitud deseado (entero, décimas, decenas, centésimas, centenas, etc). El problema es cuando el número a redondear está justo en medio (por ejemplo, redondear $3.5$ a entero, $4.85$ a décimas, etc.). En Matemáticas se suele redondear siempre hacia arriba, pero en Python se sigue otro criterio:\n",
    "\n",
    "* Cuando se redondea a enteros, decenas, centenas, etc., Python redondea de manera que la última cifra (la redondeada) sea par."
   ]
  },
  {
   "cell_type": "code",
   "execution_count": 31,
   "metadata": {},
   "outputs": [
    {
     "name": "stdout",
     "output_type": "stream",
     "text": [
      "4\n",
      "4\n",
      "6\n",
      "6\n"
     ]
    }
   ],
   "source": [
    "print(round(3.5)) # 4\n",
    "print(round(4.5)) # 4\n",
    "print(round(5.5)) # 6\n",
    "print(round(6.5)) # 6"
   ]
  },
  {
   "cell_type": "code",
   "execution_count": 32,
   "metadata": {},
   "outputs": [
    {
     "name": "stdout",
     "output_type": "stream",
     "text": [
      "400\n",
      "400\n",
      "200\n",
      "200\n",
      "0\n"
     ]
    }
   ],
   "source": [
    "print(round(450, -2)) # 400\n",
    "print(round(350, -2)) # 400\n",
    "print(round(250, -2)) # 200\n",
    "print(round(150, -2)) # 200\n",
    "print(round(50, -2))  # 0"
   ]
  },
  {
   "attachments": {},
   "cell_type": "markdown",
   "metadata": {},
   "source": [
    "Cuando se redondea a décimas, centésimas, etc., Python redondea en unos casos para arriba y en otros para abajo, debido a la forma en que se representan internamente los números decimales (como se explica en el apartado [Representación de números decimales en binario](https://www.mclibre.org/consultar/python/lecciones/python-operaciones-matematicas.html#decimales-binario)):"
   ]
  },
  {
   "cell_type": "code",
   "execution_count": 33,
   "metadata": {},
   "outputs": [
    {
     "name": "stdout",
     "output_type": "stream",
     "text": [
      "3.1\n",
      "3.2\n",
      "3.4\n",
      "3.5\n",
      "3.5\n",
      "3.6\n"
     ]
    }
   ],
   "source": [
    "print(round(3.15, 1)) # 3.1\n",
    "print(round(3.25, 1)) # 3.2\n",
    "print(round(3.35, 1)) # 3.4\n",
    "print(round(3.45, 1)) # 3.5\n",
    "print(round(3.55, 1)) # 3.5\n",
    "print(round(3.65, 1)) # 3.6"
   ]
  },
  {
   "cell_type": "code",
   "execution_count": 34,
   "metadata": {},
   "outputs": [
    {
     "name": "stdout",
     "output_type": "stream",
     "text": [
      "0.32\n",
      "0.33\n",
      "0.34\n",
      "0.34\n",
      "0.35\n",
      "0.36\n"
     ]
    }
   ],
   "source": [
    "print(round(0.315, 2)) # 0.32\n",
    "print(round(0.325, 2)) # 0.33\n",
    "print(round(0.335, 2)) # 0.34\n",
    "print(round(0.345, 2)) # 0.34\n",
    "print(round(0.355, 2)) # 0.35\n",
    "print(round(0.365, 2)) # 0.36"
   ]
  },
  {
   "attachments": {},
   "cell_type": "markdown",
   "metadata": {},
   "source": [
    "Este redondeo se debe a la forma en que Python representa internamente los números decimales. Es un problema que presentan la mayoría de lenguajes de programación y se explica en el apartado siguiente.\n",
    "\n",
    "### Valor absoluto función `abs()`\n",
    "La función integrada `abs()` calcula el valor absoluto de un número, es decir, el valor sin signo."
   ]
  },
  {
   "cell_type": "code",
   "execution_count": 35,
   "metadata": {},
   "outputs": [
    {
     "name": "stdout",
     "output_type": "stream",
     "text": [
      "6\n",
      "7\n"
     ]
    }
   ],
   "source": [
    "print(abs(-6)) # 6\n",
    "print(abs(7))  # 7"
   ]
  },
  {
   "attachments": {},
   "cell_type": "markdown",
   "metadata": {},
   "source": [
    "\n",
    "### Máximo función `max()`\n",
    "\n",
    "La función integrada `max()`  calcula el valor máximo de un conjunto de valores (numéricos o alfabéticos). En el caso de cadenas, el valor máximo corresponde al último valor en orden alfabético, sin importar la longitud de la cadena."
   ]
  },
  {
   "cell_type": "code",
   "execution_count": 36,
   "metadata": {},
   "outputs": [
    {
     "name": "stdout",
     "output_type": "stream",
     "text": [
      "8\n",
      "Tomás\n"
     ]
    }
   ],
   "source": [
    "print(max(4, 5, -2, 8, 3.5, -10))                # 8\n",
    "print(max(\"David\", \"Alicia\", \"Tomás\", \"Emilio\")) # Tomás"
   ]
  },
  {
   "attachments": {},
   "cell_type": "markdown",
   "metadata": {},
   "source": [
    "Las vocales acentuadas, la letra ñ o ç se consideran posteriores al resto de vocales y consonantes"
   ]
  },
  {
   "cell_type": "code",
   "execution_count": 37,
   "metadata": {},
   "outputs": [
    {
     "name": "stdout",
     "output_type": "stream",
     "text": [
      "Ángeles\n"
     ]
    }
   ],
   "source": [
    "print(max(\"Ángeles\", \"Roberto\")) # Ángeles"
   ]
  },
  {
   "attachments": {},
   "cell_type": "markdown",
   "metadata": {},
   "source": [
    "### Mínimo función `min()`\n",
    "\n",
    "La función integrada `min()` calcula el valor mínimo de un conjunto de valores (numéricos o alfabéticos). En el caso de cadenas, el valor mínimo corresponde al primer valor en orden alfabético, sin importar la longitud de la cadena."
   ]
  },
  {
   "cell_type": "code",
   "execution_count": 38,
   "metadata": {},
   "outputs": [
    {
     "name": "stdout",
     "output_type": "stream",
     "text": [
      "-10\n",
      "Alicia\n"
     ]
    }
   ],
   "source": [
    "print(min(4, 5, -2, 8, 3.5, -10))                # -10\n",
    "print(min(\"David\", \"Alicia\", \"Tomás\", \"Emilio\")) # Alicia"
   ]
  },
  {
   "attachments": {},
   "cell_type": "markdown",
   "metadata": {},
   "source": [
    "Las vocales acentuadas, la letra ñ o ç se consideran posteriores al resto de vocales y consonantes"
   ]
  },
  {
   "cell_type": "code",
   "execution_count": null,
   "metadata": {},
   "outputs": [],
   "source": [
    "print(min(\"Ángeles\", \"Roberto\")) # Roberto"
   ]
  },
  {
   "cell_type": "markdown",
   "metadata": {},
   "source": [
    "### Suma función `sum()`\n",
    "\n",
    "La función integrada `sum()` calcula la suma de un conjunto de valores. El conjunto de valores debe ser un tipo de datos iterable (tupla, rango, lista, conjunto o diccionario)."
   ]
  },
  {
   "cell_type": "code",
   "execution_count": 39,
   "metadata": {},
   "outputs": [
    {
     "name": "stdout",
     "output_type": "stream",
     "text": [
      "15\n",
      "15\n",
      "15\n",
      "15\n"
     ]
    }
   ],
   "source": [
    "print(sum((1, 2, 3, 4, 5))) # 15\n",
    "print(sum([1, 2, 3, 4, 5])) # 15\n",
    "print(sum(range(6)))        # 15\n",
    "print(sum({1, 2, 3, 4, 5})) # 15"
   ]
  },
  {
   "attachments": {},
   "cell_type": "markdown",
   "metadata": {},
   "source": [
    "### Ordenación función `sorted()`\n",
    "La función integrada `sorted()` ordena un conjunto de valores. El conjunto de valores debe ser un tipo de datos iterable (tupla, rango, lista, conjunto o diccionario). El conjunto de valores no se modifica, la función devuelve una lista con los elementos ordenados."
   ]
  },
  {
   "cell_type": "code",
   "execution_count": 40,
   "metadata": {},
   "outputs": [
    {
     "name": "stdout",
     "output_type": "stream",
     "text": [
      "[-3, 2, 6, 8, 10]\n",
      "[-3, 2, 6, 8, 10]\n",
      "[-3, 2, 6, 8, 10]\n",
      "['Alicia', 'David', 'Emilio', 'Tomás']\n",
      "['David', 'Emilio', 'Tomás', 'Ángeles', 'Óscar']\n"
     ]
    }
   ],
   "source": [
    "print(sorted((10, 2, 8, -3, 6))) # [-3, 2, 6, 8, 10]\n",
    "print(sorted([10, 2, 8, -3, 6])) # [-3, 2, 6, 8, 10]\n",
    "print(sorted({10, 2, 8, -3, 6})) # [-3, 2, 6, 8, 10]\n",
    "print(sorted((\"David\", \"Alicia\", \"Tomás\", \"Emilio\"))) # ['Alicia', 'David', 'Emilio', 'Tomás']\n",
    "print(sorted([\"David\", \"Ángeles\", \"Tomás\", \"Óscar\", \"Emilio\"])) # ['David', 'Emilio', 'Tomás', 'Ángeles', 'Óscar']"
   ]
  },
  {
   "attachments": {},
   "cell_type": "markdown",
   "metadata": {},
   "source": [
    "## Ejercicios Propuesto\n",
    "\n",
    "1. Dada una distancia expresada en kilómetros convertirla a metros.\n",
    "\n",
    "2. La duración de una actividad viene dada en horas y minutos y queremos expresarla en minutos solamente.\n",
    "\n",
    "3. Convertir una temperatura expresada en grados centígrados a grados Fahrenheit usando la fórmula: $C = 5/9 (F – 32)$.\n",
    "\n",
    "4. La distancia entre dos puntos con coordenadas enteras en una grilla rectangular se calcula por la fórmula de la distancia Manhatan:\n",
    "   \n",
    "    $D_m = |x_1-x_2| + |y_1-y_2|$\n",
    "5. Calcular el área de un triangulo conociendo las longitudes de sus lados. Para ello se debe auxiliar de las respectivas fórmulas para semi-perímetro y el área triángulo: \n",
    "   \n",
    "    $P = \\frac{a+b+c}{2}$     $P = \\sqrt[2]{P (P- a)(P- b)(P- c)}$\n",
    "\n",
    "6. Dado un número de tres cifras, queremos hallar la suma del número formado con los dos dígitos de los extremos más el número de centro.\n",
    "\n",
    "7. Se llama incluido al número que se obtiene sumando las cifras que forman un número dado. Por ejemplo el incluido de 124 es 7 puesto que 1+2+4=7. Dado un número de tres cifras determine cuál es su número incluido.\n"
   ]
  }
 ],
 "metadata": {
  "kernelspec": {
   "display_name": "base",
   "language": "python",
   "name": "python3"
  },
  "language_info": {
   "codemirror_mode": {
    "name": "ipython",
    "version": 3
   },
   "file_extension": ".py",
   "mimetype": "text/x-python",
   "name": "python",
   "nbconvert_exporter": "python",
   "pygments_lexer": "ipython3",
   "version": "3.9.12 (main, Apr  4 2022, 05:22:27) [MSC v.1916 64 bit (AMD64)]"
  },
  "orig_nbformat": 4,
  "vscode": {
   "interpreter": {
    "hash": "a2ab3825ac7005fb7b26f112e9c99ae62f464c629e30b0d534c3b931b6cbc3ff"
   }
  }
 },
 "nbformat": 4,
 "nbformat_minor": 2
}
