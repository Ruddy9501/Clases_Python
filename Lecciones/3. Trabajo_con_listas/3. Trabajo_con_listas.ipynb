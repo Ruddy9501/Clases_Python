{
 "cells": [
  {
   "attachments": {},
   "cell_type": "markdown",
   "metadata": {},
   "source": [
    "# Listas unidimensionales\n",
    "\n",
    "Las listas en Python son un tipo de dato que permite almacenar datos de cualquier tipo. Son mutables y dinámicas, lo cual es la principal diferencia con los sets y las tuplas.\n",
    "\n",
    "## Crear listas Python\n",
    "\n",
    "Las listas en Python son uno de los tipos o estructuras de datos más versátiles del lenguaje, ya que permiten almacenar un conjunto arbitrario de datos. Es decir, podemos guardar en ellas prácticamente lo que sea. Si vienes de otros lenguajes de programación, se podría decir que son similares a los arrays."
   ]
  },
  {
   "cell_type": "code",
   "execution_count": 2,
   "metadata": {},
   "outputs": [
    {
     "name": "stdout",
     "output_type": "stream",
     "text": [
      "[1, 2, 3, 4]\n"
     ]
    }
   ],
   "source": [
    "lista = [1, 2, 3, 4] # Lista con los elementos 1, 2, y 3\n",
    "print(lista)"
   ]
  },
  {
   "attachments": {},
   "cell_type": "markdown",
   "metadata": {},
   "source": [
    "También se puede crear usando `list` y pasando un objeto iterable."
   ]
  },
  {
   "cell_type": "code",
   "execution_count": 1,
   "metadata": {},
   "outputs": [
    {
     "name": "stdout",
     "output_type": "stream",
     "text": [
      "['1', '2', '3', '4']\n"
     ]
    }
   ],
   "source": [
    "lista = list(\"1234\") # Lista con los elementos 1, 2, y 3\n",
    "print(lista)"
   ]
  },
  {
   "attachments": {},
   "cell_type": "markdown",
   "metadata": {},
   "source": [
    "Una lista sea crea con `[]` separando sus elementos con comas `,`. Una gran ventaja es que pueden almacenar tipos de datos distintos."
   ]
  },
  {
   "cell_type": "code",
   "execution_count": 3,
   "metadata": {},
   "outputs": [
    {
     "name": "stdout",
     "output_type": "stream",
     "text": [
      "[1, 'Hola', 3.67, [1, 2, 3]]\n"
     ]
    }
   ],
   "source": [
    "lista = [1,\"Hola\",3.67,[1,2,3]] # Lista con diferentes tipos de datos\n",
    "print(lista)"
   ]
  },
  {
   "attachments": {},
   "cell_type": "markdown",
   "metadata": {},
   "source": [
    "Algunas propiedades de las listas:\n",
    "\n",
    "* Son ordenadas, mantienen el orden en el que han sido definidas\n",
    "* Pueden ser formadas por tipos arbitrarios\n",
    "* Pueden ser indexadas con `[i]`.\n",
    "* Se pueden anidar, es decir, meter una dentro de la otra.\n",
    "* Son mutables, ya que sus elementos pueden ser modificados.\n",
    "* Son dinámicas, ya que se pueden añadir o eliminar elementos.\n",
    "\n",
    "## Acceder y modificar listas\n",
    "\n",
    "Si tenemos una lista `a` con $3$ elementos almacenados en ella, podemos acceder a los mismos usando corchetes y un índice, que va desde $0$ a $n-1$ siendo $n$ el tamaño de la lista."
   ]
  },
  {
   "cell_type": "code",
   "execution_count": null,
   "metadata": {},
   "outputs": [],
   "source": [
    "a = [90, \"Python\", 3.87]\n",
    "print(a[0]) #90\n",
    "print(a[1]) #Python\n",
    "print(a[2]) #3.87"
   ]
  },
  {
   "attachments": {},
   "cell_type": "markdown",
   "metadata": {},
   "source": [
    "Se puede también acceder al último elemento usando el índice `[-1]`."
   ]
  },
  {
   "cell_type": "code",
   "execution_count": 4,
   "metadata": {},
   "outputs": [
    {
     "name": "stdout",
     "output_type": "stream",
     "text": [
      "3.87\n"
     ]
    }
   ],
   "source": [
    "a = [90, \"Python\", 3.87]\n",
    "print(a[-1]) #3.87"
   ]
  },
  {
   "attachments": {},
   "cell_type": "markdown",
   "metadata": {},
   "source": [
    "De la misma manera, al igual que  `[-1]` es el último elemento, podemos acceder a `[-2]` que será el penúltimo."
   ]
  },
  {
   "cell_type": "code",
   "execution_count": 6,
   "metadata": {},
   "outputs": [
    {
     "name": "stdout",
     "output_type": "stream",
     "text": [
      "Python\n"
     ]
    }
   ],
   "source": [
    "a = [90, \"Python\", 3.87]\n",
    "print(a[-2]) #Python"
   ]
  },
  {
   "attachments": {},
   "cell_type": "markdown",
   "metadata": {},
   "source": [
    "\n",
    "Y si queremos modificar un elemento de la lista, basta con asignar con el operador  `=` el nuevo valor."
   ]
  },
  {
   "cell_type": "code",
   "execution_count": 7,
   "metadata": {},
   "outputs": [
    {
     "name": "stdout",
     "output_type": "stream",
     "text": [
      "[90, 'Python', 1]\n"
     ]
    }
   ],
   "source": [
    "a = [90, \"Python\", 3.87]\n",
    "a[2] = 1\n",
    "print(a) #[90, 'Python', 1]"
   ]
  },
  {
   "attachments": {},
   "cell_type": "markdown",
   "metadata": {},
   "source": [
    "\n",
    "Un elemento puede ser eliminado con diferentes métodos como veremos a continuación, o con `del` y la lista con el índice a eliminar."
   ]
  },
  {
   "cell_type": "code",
   "execution_count": 9,
   "metadata": {},
   "outputs": [
    {
     "name": "stdout",
     "output_type": "stream",
     "text": [
      "[1, 3, 4, 5]\n"
     ]
    }
   ],
   "source": [
    "lista = [1, 2, 3, 4, 5]\n",
    "del lista[1]\n",
    "print(lista) #[1, 3, 4, 5]"
   ]
  },
  {
   "attachments": {},
   "cell_type": "markdown",
   "metadata": {},
   "source": [
    "# Listas bidimensionales\n"
   ]
  },
  {
   "attachments": {},
   "cell_type": "markdown",
   "metadata": {},
   "source": [
    "## Ejercicios Propuesto\n",
    "\n",
    "1. Dada una matriz de $n$ filas y $m$ columna. Implemente un algoritmo para calcular el promedio de los elementos de la matriz.    \n",
    "\n",
    "    [Link al problema en HackerRanck](https://www.hackerrank.com/contests/trabajo-con-listas/challenges/promedio-de-una-matriz)\n",
    "\n",
    "2.  Una matriz identidad es aquella cuyos elementos en la diagonal principal, es decir, accesibles con una expresión de la forma `M[i][i]`, valen uno y el resto valen cero. Construye una matriz identidad de $n$ filas y $m$ columnas.\n",
    "\n",
    "     [Link al problema en HackerRanck](https://www.hackerrank.com/contests/trabajo-con-listas/challenges/matriz-identidad-1)\n",
    "\n",
    "3. Escribir un programa que determine la posición (fila y columna) de una matriz de $n$ filas y $m$ columnas en la que se encuentra el valor máximo. Si existen varias imprimir la de menor fila y posteriormente la de menor columna.\n",
    "\n",
    "    [Link al problema en HackerRanck](https://www.hackerrank.com/contests/trabajo-con-listas/challenges/maximo-de-la-matriz)\n",
    "\n",
    "4. Diseña un programa que lea una matriz y un número y devuelva una nueva matriz: la que resulta de multiplicar la matriz por el número. (El producto de un número por una matriz es una nueva matriz que resulta de multiplicar cada elemento por dicho número).\n",
    "\n",
    "    [Link al problema en HackerRanck](https://www.hackerrank.com/contests/trabajo-con-listas/challenges/numero-por-matriz)\n",
    "\n",
    "5. Dada dos matrices de dos filas y dos columnas. Implementa un algoritmo para realizar la multiplicación de las dos matrices. \n",
    "\n",
    "    La multiplicación de dos matrices se realiza de la siguiente forma:\n",
    "\n",
    "    \\begin{equation*}\n",
    "    \\begin{bmatrix}\n",
    "    a_{00} & a_{01}\\\\\n",
    "    a_{10} & a_{11} \n",
    "    \\end{bmatrix}\n",
    "\n",
    "    *\n",
    "\n",
    "    \\begin{bmatrix}\n",
    "    b_{00} & b_{01}\\\\\n",
    "    b_{10} & b_{11} \n",
    "    \\end{bmatrix}\n",
    "\n",
    "    =\n",
    "\n",
    "    \\begin{bmatrix}\n",
    "    a_{00}*b_{00} + a_{01}*b_{10} & a_{00}*b_{01} + a_{01}*b_{11}\\\\\n",
    "    a_{10}*b_{00} + a_{11}*b_{10} & a_{10}*b_{01} + a_{11}*b_{11}\n",
    "    \\end{bmatrix}\n",
    "\n",
    "    \\end{equation*}\n",
    "\n",
    "    [Link al problema en HackerRanck](https://www.hackerrank.com/contests/trabajo-con-listas/challenges/multiplicacion-de-matrices-1)\n"
   ]
  }
 ],
 "metadata": {
  "kernelspec": {
   "display_name": "base",
   "language": "python",
   "name": "python3"
  },
  "language_info": {
   "codemirror_mode": {
    "name": "ipython",
    "version": 3
   },
   "file_extension": ".py",
   "mimetype": "text/x-python",
   "name": "python",
   "nbconvert_exporter": "python",
   "pygments_lexer": "ipython3",
   "version": "3.9.12 (main, Apr  4 2022, 05:22:27) [MSC v.1916 64 bit (AMD64)]"
  },
  "orig_nbformat": 4,
  "vscode": {
   "interpreter": {
    "hash": "a2ab3825ac7005fb7b26f112e9c99ae62f464c629e30b0d534c3b931b6cbc3ff"
   }
  }
 },
 "nbformat": 4,
 "nbformat_minor": 2
}
