{
 "cells": [
  {
   "attachments": {},
   "cell_type": "markdown",
   "metadata": {},
   "source": [
    "# Recursividad\n",
    "\n",
    "Una función recursiva es aquella que se llama a sí misma. Por ejemplo:"
   ]
  },
  {
   "cell_type": "code",
   "execution_count": 4,
   "metadata": {},
   "outputs": [
    {
     "name": "stdout",
     "output_type": "stream",
     "text": [
      "3\n",
      "2\n",
      "1\n",
      "0\n"
     ]
    }
   ],
   "source": [
    "def contador(num):\n",
    "    if num < 0:\n",
    "        return\n",
    "    print(num)\n",
    "    contador (num - 1);\n",
    "\n",
    "contador(3)"
   ]
  },
  {
   "attachments": {},
   "cell_type": "markdown",
   "metadata": {},
   "source": [
    "Si ejecutamos la instrucción contador(3) se  mostrará por pantalla lo siguiente:\n",
    "   \n",
    "    3\n",
    "    2\n",
    "    1\n",
    "    0\n",
    "Haciendo un pequeño cambio, conseguimos que la función cuente hacia arriba."
   ]
  },
  {
   "cell_type": "code",
   "execution_count": 3,
   "metadata": {},
   "outputs": [
    {
     "name": "stdout",
     "output_type": "stream",
     "text": [
      "0\n",
      "1\n",
      "2\n",
      "3\n"
     ]
    }
   ],
   "source": [
    "def contador(num):\n",
    "    if num < 0:\n",
    "        return\n",
    "    \n",
    "    contador (num - 1);\n",
    "    print(num)\n",
    "\n",
    "contador(3)"
   ]
  },
  {
   "attachments": {},
   "cell_type": "markdown",
   "metadata": {},
   "source": [
    "La razón por la que ahora cuenta hacia arriba es porque la función se va llamando recursivamente hasta que num es -1 sin que se imprima ningún valor, y entonces mientras va volviendo a las llamadas anteriores se van ejecutando los comandos cout.\n",
    "\n",
    "## Caso base de la recursión\n",
    "\n",
    "**Nótese**: la línea de código if num < 0 return; evita que nuestra función se llame a sí misma infinitas veces (cosa que acabaría desbordando la memoria stack del ordenador, que es donde se guarda dónde tiene que volver el programa después de llamar a una función). El caso en el que paramos la recursión (num < 0, en este caso) se suele llamar caso base de la recursión.\n",
    "\n",
    "\n",
    "## Retornar valores\n",
    "Las funciones recursivas también pueden retornar valores, y eso se puede aprovechar para hacer cálculos. Por ejemplo, aquí hay una función que retorna el producto de los $n$ primeros números naturales:"
   ]
  },
  {
   "cell_type": "code",
   "execution_count": 5,
   "metadata": {},
   "outputs": [
    {
     "name": "stdout",
     "output_type": "stream",
     "text": [
      "120\n"
     ]
    }
   ],
   "source": [
    "def factorial(n):\n",
    "    if n == 0:\n",
    "        return 1\n",
    "    return n * factorial(n - 1)\n",
    "\n",
    "print(factorial(5))"
   ]
  },
  {
   "attachments": {},
   "cell_type": "markdown",
   "metadata": {},
   "source": [
    "Y aquí hay otra que calcula los números de Fibonacci:"
   ]
  },
  {
   "cell_type": "code",
   "execution_count": 6,
   "metadata": {},
   "outputs": [
    {
     "name": "stdout",
     "output_type": "stream",
     "text": [
      "5\n"
     ]
    }
   ],
   "source": [
    "fib = [-1] * 101\n",
    "\n",
    "def fibonacci(n):\n",
    "    if n <= 2:\n",
    "        return 1\n",
    "    \n",
    "    return fibonacci(n-1) + fibonacci(n-2)\n",
    "\n",
    "print(fibonacci(5))"
   ]
  },
  {
   "attachments": {},
   "cell_type": "markdown",
   "metadata": {},
   "source": [
    "Estos ejemplos que hemos visto son muy sencillos y todos se pueden programar con soluciones que no utilicen recursividad, sólo bucles. De hecho, la mayoría de las cosas que se pueden hacer con recursividad se pueden hacer a través de bucles y vice versa, pero no siempre es igual de fácil plantearlo de una manera u otra. Esta disyuntiva entre un plantamiento iterativo y otro recursivo nos aparecerá en varias ocasiones.\n",
    "\n",
    "Una de las situaciones en las que un planteamiento recursivo es más natural es cuando queremos generar todas las posibles combinaciones de algo. Por ejemplo, supongamos que queremos imprimir todas las palabras formadas por las letras ‘a’ y ‘b’ que tengan una longitud determinada. El siguiente código recursivo lo hace:"
   ]
  },
  {
   "cell_type": "code",
   "execution_count": 11,
   "metadata": {},
   "outputs": [
    {
     "name": "stdout",
     "output_type": "stream",
     "text": [
      "aaa\n",
      "aab\n",
      "aba\n",
      "abb\n",
      "baa\n",
      "bab\n",
      "bba\n",
      "bbb\n"
     ]
    }
   ],
   "source": [
    "def rec(s, n):    \n",
    "    if n == 0:\n",
    "        print(s);\n",
    "    else:\n",
    "        rec(s+'a', n-1);\n",
    "        rec(s+'b', n-1);\n",
    "\n",
    "rec('', 3)"
   ]
  },
  {
   "attachments": {},
   "cell_type": "markdown",
   "metadata": {},
   "source": [
    "## Ejercicios Propuesto\n",
    "\n",
    "[Link al Hackatón del tema](https://www.hackerrank.com/contests/recursividad/challenges)"
   ]
  }
 ],
 "metadata": {
  "kernelspec": {
   "display_name": "base",
   "language": "python",
   "name": "python3"
  },
  "language_info": {
   "codemirror_mode": {
    "name": "ipython",
    "version": 3
   },
   "file_extension": ".py",
   "mimetype": "text/x-python",
   "name": "python",
   "nbconvert_exporter": "python",
   "pygments_lexer": "ipython3",
   "version": "3.9.12"
  },
  "orig_nbformat": 4,
  "vscode": {
   "interpreter": {
    "hash": "a2ab3825ac7005fb7b26f112e9c99ae62f464c629e30b0d534c3b931b6cbc3ff"
   }
  }
 },
 "nbformat": 4,
 "nbformat_minor": 2
}
