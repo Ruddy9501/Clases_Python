{
 "cells": [
  {
   "attachments": {},
   "cell_type": "markdown",
   "metadata": {},
   "source": [
    "# Ciclos `for` y `while`\n",
    "\n",
    "Los ciclos (loops) se usan cuando se necesita repetir un conjunto de instrucciones muchas veces. **PYTHON** soporta dos tipos diferentes de bucles: el bucle `for` y el bucle `while`. \n",
    "\n",
    "* Los bucles `for` son la opción más sencilla cuando usted sabe cuántas veces necesita repetir el bucle.\n",
    "* Los bucles `while` son las opciones más sencillas cuando necesita mantener la repetición de las instrucciones hasta que se satisface un criterio.\n",
    "\n",
    "## Sintaxis ciclo `for`\n",
    "\n",
    "El ciclo `for` en Python es una de las estructuras que más utilizarás en tus programas.\n",
    "\n",
    "El ciclo `for` se utiliza para recorrer los elementos de un objeto iterable (lista, tupla, conjunto, diccionario, …) y ejecutar un bloque de código. En cada paso de la iteración se tiene en cuenta a un único elemento del objeto iterable, sobre el cuál se pueden aplicar una serie de operaciones.\n",
    "\n",
    "En Python, los siguientes tipos principales son iterables, por lo que podrán ser usados en el bucle `for`:\n",
    "* `list`\n",
    "* `tuple`\n",
    "* `dict`\n",
    "* `set`\n",
    "* `string`\n",
    "\n",
    "La sintaxis del tipo `for` es la siguiente:\n",
    "\n",
    "    for <elem> in <iterable>:\n",
    "        <Tú código>\n",
    "\n",
    "Aquí, `elem` es la variable que toma el valor del elemento dentro del iterador en cada paso del bucle. Este finaliza su ejecución cuando se recorren todos los elementos.\n",
    "\n",
    "### Ciclo `for` en listas\n",
    "\n",
    "Supongamos que tenemos que iterar una lista de números y imprimir todos los números que sean primos.\n",
    "\n",
    "**Nota:** un número $n$ es primo si es divisible solamente por $1$ y por $n$. Para saber si un número es primo o no solo tenemos que comprobar que no sea divisible por ningún número entero $i$ con $2 \\leq i \\leq \\sqrt[2]{n}$.\n",
    "\n",
    "Para resolver este problema podemos utilizar el siguiente código:"
   ]
  },
  {
   "cell_type": "code",
   "execution_count": 14,
   "metadata": {},
   "outputs": [
    {
     "name": "stdout",
     "output_type": "stream",
     "text": [
      "2\n",
      "1000000007\n",
      "7\n",
      "101\n",
      "11\n",
      "17\n"
     ]
    }
   ],
   "source": [
    "lista = [2, 1000000007, 10000, 4, 7, 101, 11, 4971, 24, 17, 108, 111, 25]\n",
    "for x in lista:\n",
    "    flag = True\n",
    "    for i in range(2, int(x**(1/2)) + 1):\n",
    "        if x % i == 0:\n",
    "            flag = False\n",
    "    if flag == True:\n",
    "        print(x)"
   ]
  },
  {
   "attachments": {},
   "cell_type": "markdown",
   "metadata": {},
   "source": [
    "### Cilco `for` en diccionarios\n",
    "\n",
    "Un caso es especial de bucle `for` se da al recorrer los elementos de un diccionario. Dado que un diccionario está compuesto por pares clave/valor, hay distintas formas de iterar sobre ellas. Veamos algunos ejemplos:\n",
    "\n",
    "1. Recorrer las claves del diccionario:"
   ]
  },
  {
   "cell_type": "code",
   "execution_count": 15,
   "metadata": {},
   "outputs": [
    {
     "name": "stdout",
     "output_type": "stream",
     "text": [
      "A\n",
      "E\n",
      "I\n",
      "O\n"
     ]
    }
   ],
   "source": [
    "valores = {'A': 4, 'E': 3, 'I': 1, 'O': 0}\n",
    "for k in valores:\n",
    "    print(k)"
   ]
  },
  {
   "attachments": {},
   "cell_type": "markdown",
   "metadata": {},
   "source": [
    "2. Iterar sobre los valores del diccionario:"
   ]
  },
  {
   "cell_type": "code",
   "execution_count": 16,
   "metadata": {},
   "outputs": [
    {
     "name": "stdout",
     "output_type": "stream",
     "text": [
      "4\n",
      "3\n",
      "1\n",
      "0\n"
     ]
    }
   ],
   "source": [
    "valores = {'A': 4, 'E': 3, 'I': 1, 'O': 0}\n",
    "for v in valores.values():\n",
    "    print(v)"
   ]
  },
  {
   "attachments": {},
   "cell_type": "markdown",
   "metadata": {},
   "source": [
    "3. Iterar a la vez sobre la clave y el valor de cada uno de los elementos del diccionario."
   ]
  },
  {
   "cell_type": "code",
   "execution_count": 17,
   "metadata": {},
   "outputs": [
    {
     "name": "stdout",
     "output_type": "stream",
     "text": [
      "k = A , v = 4\n",
      "k = E , v = 3\n",
      "k = I , v = 1\n",
      "k = O , v = 0\n"
     ]
    }
   ],
   "source": [
    "valores = {'A': 4, 'E': 3, 'I': 1, 'O': 0}\n",
    "for k, v in valores.items():\n",
    "    print('k =', k, ', v =', v)"
   ]
  },
  {
   "attachments": {},
   "cell_type": "markdown",
   "metadata": {},
   "source": [
    "## Cilco `for` y la clase `range`\n",
    "\n",
    "¿Cómo implementamos y/o simulamos en Python el bucle `for` basado en una secuencia numérica? Para estos casos, Python pone a nuestra disposición la clase `range`. El constructor de esta clase, `range(max)`, devuelve un iterable cuyos valores van desde $0$ hasta $max - 1$."
   ]
  },
  {
   "cell_type": "code",
   "execution_count": 18,
   "metadata": {},
   "outputs": [
    {
     "name": "stdout",
     "output_type": "stream",
     "text": [
      "0\n",
      "1\n",
      "2\n",
      "3\n",
      "4\n",
      "5\n",
      "6\n",
      "7\n",
      "8\n",
      "9\n",
      "10\n"
     ]
    }
   ],
   "source": [
    "for i in range(11):\n",
    "    print(i)\n"
   ]
  },
  {
   "attachments": {},
   "cell_type": "markdown",
   "metadata": {},
   "source": [
    "El tipo de datos `range` se puede invocar con uno, dos e incluso tres parámetros:\n",
    "\n",
    "* `range(max)`: Un iterable de números enteros consecutivos que empieza en $0$ y acaba en $max - 1$.\n",
    "* `range(min, max)`: Un iterable de números enteros consecutivos que empieza en $min$ y acaba en $max - 1$.\n",
    "* `range(min, max, step)`: Un iterable de números enteros consecutivos que empieza en $min$ acaba en $max - 1$ y los valores se van incrementando de step en step. Este último caso simula el bucle for con variable de control.\n",
    "\n",
    "Por ejemplo, para mostrar por pantalla los números pares del $0$ al $10$ podríamos usar la función range del siguiente modo:"
   ]
  },
  {
   "cell_type": "code",
   "execution_count": 19,
   "metadata": {},
   "outputs": [
    {
     "name": "stdout",
     "output_type": "stream",
     "text": [
      "0\n",
      "2\n",
      "4\n",
      "6\n",
      "8\n",
      "10\n"
     ]
    }
   ],
   "source": [
    "for num in range(0, 11, 2):\n",
    "    print(num)"
   ]
  },
  {
   "attachments": {},
   "cell_type": "markdown",
   "metadata": {},
   "source": [
    "## Ciclo `for` y uso del `break` y `continue`\n",
    "\n",
    "Por último, vamos a ver que es posible alterar la iteración de un bucle `for` en Python. Para ello, nos valdremos de las sentencias `break` y `continue`. Pero, ¿qué hacen estas sentencias?\n",
    "\n",
    "* `break` se utiliza para finalizar y salir el bucle, por ejemplo, si se cumple alguna condición.\n",
    "* `continue` salta al siguiente paso de la iteración, ignorando todas las sentencias que le siguen y que forman parte del bucle.\n",
    "\n",
    "Un ejemplo es la mejor manera de entenderlo. Mejoremos un poco el algoritmo para saber si un número es primo o no. Para ello utilizaremos la sentencia `break`."
   ]
  },
  {
   "cell_type": "code",
   "execution_count": 20,
   "metadata": {},
   "outputs": [
    {
     "name": "stdout",
     "output_type": "stream",
     "text": [
      "2\n",
      "1000000007\n",
      "7\n",
      "101\n",
      "11\n",
      "17\n"
     ]
    }
   ],
   "source": [
    "lista = [2, 1000000007, 10000, 4, 7, 101, 11, 4971, 24, 17, 108, 111, 25]\n",
    "for x in lista:\n",
    "    flag = True\n",
    "    for i in range(2, int(x**(1/2)) + 1):\n",
    "        if x % i == 0:\n",
    "            flag = False\n",
    "            break        # Este número tiene al menos un divisor, por lo que no es primo\n",
    "    if flag == True:\n",
    "        print(x)"
   ]
  },
  {
   "attachments": {},
   "cell_type": "markdown",
   "metadata": {},
   "source": [
    "Para ejemplificar el uso del `continue` implementemos un algoritmo que imprima solo los números pares de una lista."
   ]
  },
  {
   "cell_type": "code",
   "execution_count": 21,
   "metadata": {},
   "outputs": [
    {
     "name": "stdout",
     "output_type": "stream",
     "text": [
      "2\n",
      "4\n",
      "8\n",
      "4\n"
     ]
    }
   ],
   "source": [
    "lista = [2, 4, 5, 7, 8, 9, 3, 4]\n",
    "for x in lista:\n",
    "    if x % 2 != 0:\n",
    "        continue\n",
    "    print(x)"
   ]
  },
  {
   "attachments": {},
   "cell_type": "markdown",
   "metadata": {},
   "source": [
    "## Ciclo `for` y sentencia `else`\n",
    "\n",
    "En relación al apartado anterior, Python ofrece una estructura adicional de ciclo `for` cuya estructura es la siguiente:\n",
    "\n",
    "\n",
    "    for i in iterable:\n",
    "        # Tu código aquí\n",
    "    else:\n",
    "        # Este código siempre se ejecuta si no\n",
    "        # se ejecutó la sentencia break en el bloque for\n",
    "\n",
    "Es decir, el código del bloque `else` se ejecutará siempre y cuando no se haya ejecutado la sentencia `break` dentro del bloque del `for`.\n",
    "\n",
    "Veamos un ejemplo:\n",
    "\n"
   ]
  },
  {
   "cell_type": "code",
   "execution_count": 22,
   "metadata": {},
   "outputs": [],
   "source": [
    "numeros = [1, 2, 4, 3, 5, 8, 6]\n",
    "for n in numeros:\n",
    "    if n == 3:\n",
    "        break\n",
    "else:\n",
    "    print('No se encontró el número 3')"
   ]
  },
  {
   "attachments": {},
   "cell_type": "markdown",
   "metadata": {},
   "source": [
    "Como en el ejemplo anterior la secuencia numeros contiene al número $3$, la instrucción `print` nunca se ejecutará."
   ]
  },
  {
   "attachments": {},
   "cell_type": "markdown",
   "metadata": {},
   "source": [
    "## Sintaxis ciclo `while`\n",
    "\n",
    "Los bucles `while` son similares a los bucles `for` el cual se usa para repetir un bloque de instrucciones dentro de nuestro programa, la gran diferencia con el ciclo `for` es la forma en que **Python** decide cuántas veces repetir el bucle. Los bucles `while` continúan hasta que se satisface algún criterio.\n",
    "\n",
    "La estructura del ciclo while debe respetar la siguiente sintaxis:\n",
    "\n",
    "    while <condición> :\n",
    "\n",
    "      <Tú código>\n",
    "      <Variar la condición>\n",
    "\n",
    "**Veamos un ejemplo:** En las matemáticas, se define el [máximo común divisor](https://es.wikipedia.org/wiki/M%C3%A1ximo_com%C3%BAn_divisor) (abreviado MCD) de dos o más números enteros al mayor número entero que los divide sin dejar residuo alguno. Para calcular el MCD se puede utilizar el [Algoritmo de Euclides](https://es.wikipedia.org/wiki/Algoritmo_de_Euclides). Se puede expresar este algoritmo de manera más formal usando pseudocódigo. En este caso la expresión $x \\bmod y$ significa \"el residuo de dividir $x$ entre $y$\"\n",
    "\n",
    "<div style=\"text-align: center;\">\n",
    "    <img src=\"../../img/pseudocódigo-algoritmo-de-Euclides.PNG\" width=50% height=auto>\n",
    "</div>\n",
    "\n",
    "Este algoritmo se implemente utilizando un ciclo while:"
   ]
  },
  {
   "cell_type": "code",
   "execution_count": 3,
   "metadata": {},
   "outputs": [
    {
     "name": "stdout",
     "output_type": "stream",
     "text": [
      "El MCD de 25 y 45 es 5\n"
     ]
    }
   ],
   "source": [
    "def mcd (a, b):\n",
    "\n",
    "    while a != 0:\n",
    "        b = b % a\n",
    "        a, b = b, a\n",
    "\n",
    "    return b\n",
    "\n",
    "a = 25\n",
    "b = 45\n",
    "x = mcd(a, b)\n",
    "\n",
    "print (\"El MCD de {} y {} es {}\".format(a, b, x))"
   ]
  },
  {
   "attachments": {},
   "cell_type": "markdown",
   "metadata": {},
   "source": [
    "## Ciclo `while` y sentencia `else`\n",
    "\n",
    "La sentencia `else` también puede ser empleada con el ciclo `while` y es empleada para ejecutar un bloque especifico de código cuando la condición del `while` deja de ser verdadera."
   ]
  },
  {
   "cell_type": "code",
   "execution_count": 4,
   "metadata": {},
   "outputs": [
    {
     "name": "stdout",
     "output_type": "stream",
     "text": [
      "El MCD de 25 y 45 es 5\n"
     ]
    }
   ],
   "source": [
    "def mcd (a, b):\n",
    "    a1 = a\n",
    "    b1 = b \n",
    "    while a1 != 0:\n",
    "        b1 = b1 % a1\n",
    "        a1, b1 = b1, a1\n",
    "    else:\n",
    "        print (\"El MCD de {} y {} es {}\".format(a, b, b1))\n",
    "\n",
    "    return b\n",
    "\n",
    "a = 25\n",
    "b = 45\n",
    "x = mcd(a, b)"
   ]
  },
  {
   "attachments": {},
   "cell_type": "markdown",
   "metadata": {},
   "source": [
    "## Ciclo `while` y uso del `break` y `continue`\n",
    "\n",
    "El comando `break` se puede usar para terminar un bucle prematuramente (mientras que la comparación en la primera línea todavía es verdadera)."
   ]
  },
  {
   "cell_type": "code",
   "execution_count": 8,
   "metadata": {},
   "outputs": [
    {
     "name": "stdout",
     "output_type": "stream",
     "text": [
      "1\n",
      "El bucle ha finalizado\n"
     ]
    }
   ],
   "source": [
    "a = 0\n",
    "\n",
    "while a < 10:\n",
    "    a += 1\n",
    "    if a % 2 == 0:\n",
    "        break\n",
    "    print(a)\n",
    "\n",
    "print('El bucle ha finalizado')"
   ]
  },
  {
   "attachments": {},
   "cell_type": "markdown",
   "metadata": {},
   "source": [
    "El comando `continue` es similar a `break`; sin embargo, en lugar de terminar el ciclo, el programa sólo salta al paso siguiente."
   ]
  },
  {
   "cell_type": "code",
   "execution_count": 7,
   "metadata": {},
   "outputs": [
    {
     "name": "stdout",
     "output_type": "stream",
     "text": [
      "1\n",
      "3\n",
      "5\n",
      "7\n",
      "9\n",
      "El bucle ha finalizado\n"
     ]
    }
   ],
   "source": [
    "a = 0\n",
    "\n",
    "while a < 10:\n",
    "    a += 1\n",
    "    if a % 2 == 0:\n",
    "        continue\n",
    "    print(a)\n",
    "\n",
    "print('El bucle ha finalizado')"
   ]
  },
  {
   "attachments": {},
   "cell_type": "markdown",
   "metadata": {},
   "source": [
    "## Ejercicios Propuesto\n",
    "\n",
    "1. La [Sucesión de Fibonacci](https://es.wikipedia.org/wiki/Sucesi%C3%B3n_de_Fibonacci) es la siguiente sucesión infinita de números naturales:\n",
    "\n",
    "    $1,1,2,3,5,8,13,21,34,55,89,144,233,377,610,987,1597 \\ldots$\n",
    "\n",
    "    Implemente un algoritmo para calcular la suma de los $n$ primeros números de la Sucesión de Fibonacci.\n",
    "\n",
    "    [Link al problema en HackerRanck](https://www.hackerrank.com/contests/ciclos-for-y-while/challenges/suma-de-los-n-primeros-numeros-de-la-sucesion-de-fibonacci)\n",
    "\n",
    "2. Implmente un programa que la cantidad de términos que deben sumarse de la serie $1^2 + 2^2 + 3^3 + 4^4 + ...$ para que el valor de la suma sea mayor a un número $x$.\n",
    "  \n",
    "    [Link al problema en HackerRanck](https://www.hackerrank.com/contests/ciclos-for-y-while/challenges/numero-de-terminos)\n",
    "\n",
    "3. Implemente un algoritmo que imprima la forma de diamante siguiente, entrando como dato la cantidad $n$ de “*” a utilizar en la fila central del diamante.\n",
    "\n",
    "              *\n",
    "            * * *\n",
    "          * * * * *\n",
    "        * * * * * * *\n",
    "          * * * * *\n",
    "            * * *\n",
    "              *\n",
    "\n",
    "    [Link al problema en HackerRanck](https://www.hackerrank.com/contests/ciclos-for-y-while/challenges/forma-de-diamante)\n",
    "\n",
    "4. Un número perfecto es aquel que la suma de sus divisores es igual a él (exceptuando el propio número). Por ejemplo $28 = 14+7+4+2+1$. Dados dos números enteros $a$ y $b$. Implemente un algoritmo para calcular todos los números perfectos en el rango $[a, b]$.\n",
    "\n",
    "    [Link al problema en HackerRanck](https://www.hackerrank.com/contests/ciclos-for-y-while/challenges/numeros-perfectos-3-1)\n",
    "\n",
    "5. El [mínimo común múltiplo](https://es.wikipedia.org/wiki/M%C3%ADnimo_com%C3%BAn_m%C3%BAltiplo) (MCM) entre dos números $a$ y $b$ es el menor múltiplo común de ambos números. \n",
    "\n",
    "    Conociendo el máximo común divisor de dos números, se puede calcular el mínimo común múltiplo de ellos, que será el producto de ambos dividido entre su máximo común divisor.\n",
    "\n",
    "    $MCM = \\frac{a*b}{MCD(a, b)}$\n",
    "\n",
    "    Dados dos numeros enteros $a$ y $b$. Implemente un algoritmo para calcular el mínimo común múltiplo de $a$ y $b$.\n",
    "\n",
    "    [Link al problema en HackerRanck]()\n",
    "\n",
    "6. Dado un entero n > 1, la [conjetura de Ullman](https://es.wikipedia.org/wiki/Conjetura_de_Collatz) (en honor al matemático S. Ullman) que consiste en lo siguiente:\n",
    "    Sea la siguiente operación, aplicable a cualquier número entero positivo:\n",
    "\n",
    "      * Si el número es par, se divide entre $2$.\n",
    "      * Si el número es impar, se multiplica por $3$ y se suma $1$.\n",
    "\n",
    "    Por ejemplo, cuando el entero inicial es $26$, la secuencia será:\n",
    "\n",
    "      Paso 1: $13$\\\n",
    "      Paso 2: $40$\\\n",
    "      Paso 3: $20$\\\n",
    "      Paso 4: $10$\\\n",
    "      Paso 5: $5$\\\n",
    "      Paso 6: $16$\\\n",
    "      Paso 7: $8$\\\n",
    "      Paso 8: $4$\\\n",
    "      Paso 9: $2$\\\n",
    "      Paso 10: $1$\n",
    "\n",
    "    Dado un numeros enteros $a$. Implemente un algoritmo para calcular la cantidad de pasos de la conjetura de Ullman para $a$.\n",
    "\n",
    "    [Link al problema en HackerRanck]()"
   ]
  }
 ],
 "metadata": {
  "kernelspec": {
   "display_name": "base",
   "language": "python",
   "name": "python3"
  },
  "language_info": {
   "codemirror_mode": {
    "name": "ipython",
    "version": 3
   },
   "file_extension": ".py",
   "mimetype": "text/x-python",
   "name": "python",
   "nbconvert_exporter": "python",
   "pygments_lexer": "ipython3",
   "version": "3.9.12"
  },
  "orig_nbformat": 4,
  "vscode": {
   "interpreter": {
    "hash": "a2ab3825ac7005fb7b26f112e9c99ae62f464c629e30b0d534c3b931b6cbc3ff"
   }
  }
 },
 "nbformat": 4,
 "nbformat_minor": 2
}
