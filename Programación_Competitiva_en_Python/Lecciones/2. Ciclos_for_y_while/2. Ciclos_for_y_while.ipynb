{
 "cells": [
  {
   "attachments": {},
   "cell_type": "markdown",
   "metadata": {},
   "source": [
    "# Ciclos `for` y `while`\n",
    "\n",
    "El ciclo `for` en Python es una de las estructuras que más utilizarás en tus programas.\n",
    "\n",
    "## Sintaxis ciclo for\n",
    "\n",
    "El ciclo for se utiliza para recorrer los elementos de un objeto iterable (lista, tupla, conjunto, diccionario, …) y ejecutar un bloque de código. En cada paso de la iteración se tiene en cuenta a un único elemento del objeto iterable, sobre el cuál se pueden aplicar una serie de operaciones.\n",
    "\n",
    "En Python, los siguientes tipos principales son iterables, por lo que podrán ser usados en el bucle `for`:\n",
    "* `list`\n",
    "* `tuple`\n",
    "* `dict`\n",
    "* `set`\n",
    "* `string`\n",
    "\n",
    "La sintaxis del tipo `for` es la siguiente:\n",
    "\n",
    "      for <elem> in <iterable>:\n",
    "          <Tu código>\n",
    "\n",
    "Aquí, `elem` es la variable que toma el valor del elemento dentro del iterador en cada paso del bucle. Este finaliza su ejecución cuando se recorren todos los elementos.\n",
    "\n",
    "### Ciclo for en listas\n",
    "\n",
    "Supongamos que tenemos que iterar una lista de números y imprimir todos los números que sean primos.\n",
    "\n",
    "**Nota:** un número $n$ es primo si es divisible solamente por $1$ y por $n$. Para saber si un número es primo o no solo tenemos que comprobar que no sea divisible por ningún número entero $i$ con $2 \\leq i \\leq \\sqrt[2]{n}$.\n",
    "\n",
    "Para resolver este problema podemos utilizar el siguiente código:"
   ]
  },
  {
   "cell_type": "code",
   "execution_count": 14,
   "metadata": {},
   "outputs": [
    {
     "name": "stdout",
     "output_type": "stream",
     "text": [
      "2\n",
      "1000000007\n",
      "7\n",
      "101\n",
      "11\n",
      "17\n"
     ]
    }
   ],
   "source": [
    "lista = [2, 1000000007, 10000, 4, 7, 101, 11, 4971, 24, 17, 108, 111, 25]\n",
    "for x in lista:\n",
    "    flag = True\n",
    "    for i in range(2, int(x**(1/2)) + 1):\n",
    "        if x % i == 0:\n",
    "            flag = False\n",
    "    if flag == True:\n",
    "        print(x)"
   ]
  },
  {
   "attachments": {},
   "cell_type": "markdown",
   "metadata": {},
   "source": [
    "### Cilco `for` en diccionarios\n",
    "\n",
    "Un caso es especial de bucle `for` se da al recorrer los elementos de un diccionario. Dado que un diccionario está compuesto por pares clave/valor, hay distintas formas de iterar sobre ellas. Veamos algunos ejemplos:\n",
    "\n",
    "1. Recorrer las claves del diccionario:"
   ]
  },
  {
   "cell_type": "code",
   "execution_count": 15,
   "metadata": {},
   "outputs": [
    {
     "name": "stdout",
     "output_type": "stream",
     "text": [
      "A\n",
      "E\n",
      "I\n",
      "O\n"
     ]
    }
   ],
   "source": [
    "valores = {'A': 4, 'E': 3, 'I': 1, 'O': 0}\n",
    "for k in valores:\n",
    "    print(k)"
   ]
  },
  {
   "attachments": {},
   "cell_type": "markdown",
   "metadata": {},
   "source": [
    "2. Iterar sobre los valores del diccionario:"
   ]
  },
  {
   "cell_type": "code",
   "execution_count": 16,
   "metadata": {},
   "outputs": [
    {
     "name": "stdout",
     "output_type": "stream",
     "text": [
      "4\n",
      "3\n",
      "1\n",
      "0\n"
     ]
    }
   ],
   "source": [
    "valores = {'A': 4, 'E': 3, 'I': 1, 'O': 0}\n",
    "for v in valores.values():\n",
    "    print(v)"
   ]
  },
  {
   "attachments": {},
   "cell_type": "markdown",
   "metadata": {},
   "source": [
    "3. Iterar a la vez sobre la clave y el valor de cada uno de los elementos del diccionario."
   ]
  },
  {
   "cell_type": "code",
   "execution_count": 17,
   "metadata": {},
   "outputs": [
    {
     "name": "stdout",
     "output_type": "stream",
     "text": [
      "k = A , v = 4\n",
      "k = E , v = 3\n",
      "k = I , v = 1\n",
      "k = O , v = 0\n"
     ]
    }
   ],
   "source": [
    "valores = {'A': 4, 'E': 3, 'I': 1, 'O': 0}\n",
    "for k, v in valores.items():\n",
    "    print('k =', k, ', v =', v)"
   ]
  },
  {
   "attachments": {},
   "cell_type": "markdown",
   "metadata": {},
   "source": [
    "## Cilco `for` y la clase `range`\n",
    "\n",
    "¿Cómo implementamos y/o simulamos en Python el bucle `for` basado en una secuencia numérica? Para estos casos, Python pone a nuestra disposición la clase `range`. El constructor de esta clase, `range(max)`, devuelve un iterable cuyos valores van desde $0$ hasta $max - 1$."
   ]
  },
  {
   "cell_type": "code",
   "execution_count": 18,
   "metadata": {},
   "outputs": [
    {
     "name": "stdout",
     "output_type": "stream",
     "text": [
      "0\n",
      "1\n",
      "2\n",
      "3\n",
      "4\n",
      "5\n",
      "6\n",
      "7\n",
      "8\n",
      "9\n",
      "10\n"
     ]
    }
   ],
   "source": [
    "for i in range(11):\n",
    "    print(i)\n"
   ]
  },
  {
   "attachments": {},
   "cell_type": "markdown",
   "metadata": {},
   "source": [
    "El tipo de datos `range` se puede invocar con uno, dos e incluso tres parámetros:\n",
    "\n",
    "* `range(max)`: Un iterable de números enteros consecutivos que empieza en $0$ y acaba en $max - 1$.\n",
    "* `range(min, max)`: Un iterable de números enteros consecutivos que empieza en $min$ y acaba en $max - 1$.\n",
    "* `range(min, max, step)`: Un iterable de números enteros consecutivos que empieza en $min$ acaba en $max - 1$ y los valores se van incrementando de step en step. Este último caso simula el bucle for con variable de control.\n",
    "\n",
    "Por ejemplo, para mostrar por pantalla los números pares del $0$ al $10$ podríamos usar la función range del siguiente modo:"
   ]
  },
  {
   "cell_type": "code",
   "execution_count": 19,
   "metadata": {},
   "outputs": [
    {
     "name": "stdout",
     "output_type": "stream",
     "text": [
      "0\n",
      "2\n",
      "4\n",
      "6\n",
      "8\n",
      "10\n"
     ]
    }
   ],
   "source": [
    "for num in range(0, 11, 2):\n",
    "    print(num)"
   ]
  },
  {
   "attachments": {},
   "cell_type": "markdown",
   "metadata": {},
   "source": [
    "## Ciclo for y uso del `break` y `continue`\n",
    "\n",
    "Por último, vamos a ver que es posible alterar la iteración de un bucle `for` en Python. Para ello, nos valdremos de las sentencias `break` y `continue`. Pero, ¿qué hacen estas sentencias?\n",
    "\n",
    "* `break` se utiliza para finalizar y salir el bucle, por ejemplo, si se cumple alguna condición.\n",
    "* `continue` salta al siguiente paso de la iteración, ignorando todas las sentencias que le siguen y que forman parte del bucle.\n",
    "\n",
    "Un ejemplo es la mejor manera de entenderlo. Mejoremos un poco el algoritmo para saber si un número es primo o no. Para ello utilizaremos la sentencia `break`."
   ]
  },
  {
   "cell_type": "code",
   "execution_count": 20,
   "metadata": {},
   "outputs": [
    {
     "name": "stdout",
     "output_type": "stream",
     "text": [
      "2\n",
      "1000000007\n",
      "7\n",
      "101\n",
      "11\n",
      "17\n"
     ]
    }
   ],
   "source": [
    "lista = [2, 1000000007, 10000, 4, 7, 101, 11, 4971, 24, 17, 108, 111, 25]\n",
    "for x in lista:\n",
    "    flag = True\n",
    "    for i in range(2, int(x**(1/2)) + 1):\n",
    "        if x % i == 0:\n",
    "            flag = False\n",
    "            break        # Este número tiene al menos un divisor, por lo que no es primo\n",
    "    if flag == True:\n",
    "        print(x)"
   ]
  },
  {
   "attachments": {},
   "cell_type": "markdown",
   "metadata": {},
   "source": [
    "Para ejemplificar el uso del `continue` implementemos un algoritmo que imprima solo los números pares de una lista."
   ]
  },
  {
   "cell_type": "code",
   "execution_count": 21,
   "metadata": {},
   "outputs": [
    {
     "name": "stdout",
     "output_type": "stream",
     "text": [
      "2\n",
      "4\n",
      "8\n",
      "4\n"
     ]
    }
   ],
   "source": [
    "lista = [2, 4, 5, 7, 8, 9, 3, 4]\n",
    "for x in lista:\n",
    "    if x % 2 != 0:\n",
    "        continue\n",
    "    print(x)"
   ]
  },
  {
   "attachments": {},
   "cell_type": "markdown",
   "metadata": {},
   "source": [
    "## Ciclo `for` y sentencia `else`\n",
    "\n",
    "En relación al apartado anterior, Python ofrece una estructura adicional de ciclo `for` cuya estructura es la siguiente:\n",
    "\n",
    "\n",
    "    for e in iterable:\n",
    "        # Tu código aquí\n",
    "    else:\n",
    "        # Este código siempre se ejecuta si no\n",
    "        # se ejecutó la sentencia break en el bloque for\n",
    "\n",
    "Es decir, el código del bloque `else` se ejecutará siempre y cuando no se haya ejecutado la sentencia `break` dentro del bloque del `for`.\n",
    "\n",
    "Veamos un ejemplo:\n",
    "\n"
   ]
  },
  {
   "cell_type": "code",
   "execution_count": 22,
   "metadata": {},
   "outputs": [],
   "source": [
    "numeros = [1, 2, 4, 3, 5, 8, 6]\n",
    "for n in numeros:\n",
    "    if n == 3:\n",
    "        break\n",
    "else:\n",
    "    print('No se encontró el número 3')"
   ]
  },
  {
   "attachments": {},
   "cell_type": "markdown",
   "metadata": {},
   "source": [
    "Como en el ejemplo anterior la secuencia numeros contiene al número $3$, la instrucción `print` nunca se ejecutará."
   ]
  }
 ],
 "metadata": {
  "kernelspec": {
   "display_name": "base",
   "language": "python",
   "name": "python3"
  },
  "language_info": {
   "codemirror_mode": {
    "name": "ipython",
    "version": 3
   },
   "file_extension": ".py",
   "mimetype": "text/x-python",
   "name": "python",
   "nbconvert_exporter": "python",
   "pygments_lexer": "ipython3",
   "version": "3.9.12"
  },
  "orig_nbformat": 4,
  "vscode": {
   "interpreter": {
    "hash": "a2ab3825ac7005fb7b26f112e9c99ae62f464c629e30b0d534c3b931b6cbc3ff"
   }
  }
 },
 "nbformat": 4,
 "nbformat_minor": 2
}
